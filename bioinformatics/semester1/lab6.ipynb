{
 "cells": [
  {
   "cell_type": "markdown",
   "id": "bb9b2647-7029-4f77-a765-d26e5ab068d8",
   "metadata": {},
   "source": [
    "**Задание 1**"
   ]
  },
  {
   "cell_type": "code",
   "execution_count": 1,
   "id": "8e7ee351-b8b3-4f8c-9c5e-f1c2fb6a2c05",
   "metadata": {
    "tags": [],
    "ExecuteTime": {
     "start_time": "2023-04-29T18:55:25.307541Z",
     "end_time": "2023-04-29T18:55:25.444996Z"
    }
   },
   "outputs": [
    {
     "name": "stderr",
     "output_type": "stream",
     "text": [
      "C:\\Users\\Mikhail\\AppData\\Roaming\\Python\\Python311\\site-packages\\Bio\\pairwise2.py:278: BiopythonDeprecationWarning: Bio.pairwise2 has been deprecated, and we intend to remove it in a future release of Biopython. As an alternative, please consider using Bio.Align.PairwiseAligner as a replacement, and contact the Biopython developers if you still need the Bio.pairwise2 module.\n",
      "  warnings.warn(\n"
     ]
    }
   ],
   "source": [
    "from Bio import pairwise2\n",
    "from Bio import Align\n",
    "from Bio.pairwise2 import format_alignment\n",
    "from Bio.Seq import Seq\n",
    "from Bio.Align import substitution_matrices\n",
    "from Bio.Align.Applications import ClustalwCommandline\n",
    "from Bio.Align.Applications import MuscleCommandline"
   ]
  },
  {
   "cell_type": "code",
   "execution_count": 2,
   "id": "73323938-c713-4026-bfd0-6b251ddcf12c",
   "metadata": {
    "ExecuteTime": {
     "start_time": "2023-04-29T18:55:25.441990Z",
     "end_time": "2023-04-29T18:55:25.449023Z"
    }
   },
   "outputs": [],
   "source": [
    "seq1 = Seq(\"ACCGGT\")\n",
    "seq2 = Seq(\"ACGT\")\n",
    "alignments = pairwise2.align.globalxx(seq1, seq2)"
   ]
  },
  {
   "cell_type": "code",
   "execution_count": 3,
   "id": "e736068b-9183-44e3-be62-a4049752b8b6",
   "metadata": {
    "tags": [],
    "ExecuteTime": {
     "start_time": "2023-04-29T18:55:25.449023Z",
     "end_time": "2023-04-29T18:55:25.458515Z"
    }
   },
   "outputs": [
    {
     "name": "stdout",
     "output_type": "stream",
     "text": [
      "Alignment(seqA='ACCGGT', seqB='A-C-GT', score=4.0, start=0, end=6)\n",
      "Alignment(seqA='ACCGGT', seqB='AC--GT', score=4.0, start=0, end=6)\n",
      "Alignment(seqA='ACCGGT', seqB='A-CG-T', score=4.0, start=0, end=6)\n",
      "Alignment(seqA='ACCGGT', seqB='AC-G-T', score=4.0, start=0, end=6)\n",
      "ACCGGT\n",
      "| | ||\n",
      "A-C-GT\n",
      "  Score=4\n",
      "\n",
      "ACCGGT\n",
      "||  ||\n",
      "AC--GT\n",
      "  Score=4\n",
      "\n",
      "ACCGGT\n",
      "| || |\n",
      "A-CG-T\n",
      "  Score=4\n",
      "\n",
      "ACCGGT\n",
      "|| | |\n",
      "AC-G-T\n",
      "  Score=4\n",
      "\n"
     ]
    }
   ],
   "source": [
    "for alignment in alignments:\n",
    "    print(alignment)\n",
    "\n",
    "for alignment in alignments:\n",
    "    print(format_alignment(*alignment))"
   ]
  },
  {
   "cell_type": "code",
   "execution_count": 4,
   "id": "0e48e075-d49c-43b6-8f14-0259edec6481",
   "metadata": {
    "tags": [],
    "ExecuteTime": {
     "start_time": "2023-04-29T18:55:25.457516Z",
     "end_time": "2023-04-29T18:55:25.468610Z"
    }
   },
   "outputs": [],
   "source": [
    "blosum62 = substitution_matrices.load(\"BLOSUM62\")\n",
    "test_alignments = pairwise2.align.localds(seq1, seq2, blosum62, -10, -1)"
   ]
  },
  {
   "cell_type": "code",
   "execution_count": 5,
   "id": "1a544e6c-04d7-4ad0-b6f2-f6a080e9cb28",
   "metadata": {
    "ExecuteTime": {
     "start_time": "2023-04-29T18:55:25.470643Z",
     "end_time": "2023-04-29T18:55:25.534994Z"
    }
   },
   "outputs": [
    {
     "name": "stdout",
     "output_type": "stream",
     "text": [
      "Alignment(seqA='ACCGGT', seqB='-ACGT-', score=15.0, start=2, end=4)\n",
      "3 CG\n",
      "  ||\n",
      "2 CG\n",
      "  Score=15\n",
      "\n"
     ]
    }
   ],
   "source": [
    "for test_alignment in test_alignments:\n",
    "    print(test_alignment)\n",
    "\n",
    "for test_alignment in test_alignments:\n",
    "    print(format_alignment(*test_alignment))"
   ]
  },
  {
   "cell_type": "code",
   "execution_count": 6,
   "id": "ae1238fa-5552-4de8-8fac-887c34d1ff59",
   "metadata": {
    "ExecuteTime": {
     "start_time": "2023-04-29T18:55:25.480577Z",
     "end_time": "2023-04-29T18:55:25.536000Z"
    }
   },
   "outputs": [
    {
     "name": "stdout",
     "output_type": "stream",
     "text": [
      "Pairwise sequence aligner with parameters\n",
      "  wildcard: None\n",
      "  match_score: 1.000000\n",
      "  mismatch_score: 0.000000\n",
      "  target_internal_open_gap_score: 0.000000\n",
      "  target_internal_extend_gap_score: 0.000000\n",
      "  target_left_open_gap_score: 0.000000\n",
      "  target_left_extend_gap_score: 0.000000\n",
      "  target_right_open_gap_score: 0.000000\n",
      "  target_right_extend_gap_score: 0.000000\n",
      "  query_internal_open_gap_score: 0.000000\n",
      "  query_internal_extend_gap_score: 0.000000\n",
      "  query_left_open_gap_score: 0.000000\n",
      "  query_left_extend_gap_score: 0.000000\n",
      "  query_right_open_gap_score: 0.000000\n",
      "  query_right_extend_gap_score: 0.000000\n",
      "  mode: global\n",
      "\n"
     ]
    }
   ],
   "source": [
    "aligner = Align.PairwiseAligner()\n",
    "print(aligner)"
   ]
  },
  {
   "cell_type": "markdown",
   "id": "1b057186-990e-4b5c-b733-e4c380dbd96a",
   "metadata": {},
   "source": [
    "**Задание 2**"
   ]
  },
  {
   "cell_type": "code",
   "execution_count": 7,
   "id": "4f0d2fee-3648-4a9b-a924-ab3119c1c924",
   "metadata": {
    "ExecuteTime": {
     "start_time": "2023-04-29T18:55:25.491137Z",
     "end_time": "2023-04-29T18:55:25.536000Z"
    }
   },
   "outputs": [
    {
     "name": "stdout",
     "output_type": "stream",
     "text": [
      "clustalw2 -infile=data/opuntia.fasta\n"
     ]
    }
   ],
   "source": [
    "cmd = ClustalwCommandline(\"clustalw2\", infile=\"data/opuntia.fasta\")\n",
    "print(cmd)"
   ]
  },
  {
   "cell_type": "markdown",
   "id": "6d5b0723-b8a5-47a8-97d0-675ca12c9ce2",
   "metadata": {},
   "source": [
    "**Задание 3**"
   ]
  },
  {
   "cell_type": "code",
   "execution_count": 8,
   "id": "cd0ab572-036e-4483-85b7-a9382073cd00",
   "metadata": {
    "tags": [],
    "ExecuteTime": {
     "start_time": "2023-04-29T18:55:25.502106Z",
     "end_time": "2023-04-29T18:55:25.537010Z"
    }
   },
   "outputs": [
    {
     "name": "stdout",
     "output_type": "stream",
     "text": [
      "muscle -in data/opuntia.fasta -out data/opuntia_aligned.fasta\n"
     ]
    }
   ],
   "source": [
    "cmd = MuscleCommandline(\"muscle\", input=\"data/opuntia.fasta\", out=\"data/opuntia_aligned.fasta\")\n",
    "print(cmd)"
   ]
  },
  {
   "cell_type": "code",
   "execution_count": 8,
   "id": "76e36158-5a50-49ad-a6f9-fa27fcf5e1ad",
   "metadata": {
    "ExecuteTime": {
     "start_time": "2023-04-29T18:55:25.512963Z",
     "end_time": "2023-04-29T18:55:25.537010Z"
    }
   },
   "outputs": [],
   "source": []
  }
 ],
 "metadata": {
  "kernelspec": {
   "display_name": "Python 3 (ipykernel)",
   "language": "python",
   "name": "python3"
  },
  "language_info": {
   "codemirror_mode": {
    "name": "ipython",
    "version": 3
   },
   "file_extension": ".py",
   "mimetype": "text/x-python",
   "name": "python",
   "nbconvert_exporter": "python",
   "pygments_lexer": "ipython3",
   "version": "3.11.0"
  }
 },
 "nbformat": 4,
 "nbformat_minor": 5
}
