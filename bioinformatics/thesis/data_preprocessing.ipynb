{
 "cells": [
  {
   "cell_type": "code",
   "id": "0c493f69-e468-4c65-9ff0-39118bfe8fa1",
   "metadata": {
    "ExecuteTime": {
     "end_time": "2024-04-30T12:04:10.590058Z",
     "start_time": "2024-04-30T12:04:10.510237Z"
    }
   },
   "source": [
    "import csv\n",
    "import os\n",
    "\n",
    "\n",
    "def write_sequences_to_txt(input_file, output_file):\n",
    "    with open(input_file, 'r') as csvfile:\n",
    "        reader = csv.reader(csvfile)\n",
    "        next(reader)\n",
    "        with open(output_file, 'w') as outfile:\n",
    "            aminoacid_sequences = []\n",
    "            for i, row in enumerate(reader):\n",
    "                aminoacid_sequences.append(row[0])\n",
    "            outfile.write('\\n'.join(aminoacid_sequences))\n",
    "\n",
    "\n",
    "input_file = 'AMPs.csv'\n",
    "output_file = 'AMPs.txt'\n",
    "\n",
    "write_sequences_to_txt(input_file, output_file)\n",
    "\n",
    "output_dir = \"8YA5_AMP_complexes\"\n",
    "os.makedirs(output_dir, exist_ok=True)\n",
    "\n",
    "peptides_file = \"AMPs.txt\"\n",
    "with open(peptides_file, \"r\") as f:\n",
    "    peptides = f.readlines()\n",
    "\n",
    "fasta_file = \"8YA5.fasta\"\n",
    "with open(fasta_file, \"r\") as f:\n",
    "    fasta_content = f.read()\n",
    "\n",
    "peptides = peptides[:1000]\n",
    "\n",
    "for i, peptide in enumerate(peptides, start=1):\n",
    "    complex_file = os.path.join(output_dir, f\"8YA5_AMP_complex_{i}.fasta\")\n",
    "    with open(complex_file, \"w\") as f:\n",
    "        f.write(fasta_content)\n",
    "        f.write(\n",
    "            f\"\\n\"\n",
    "            f\">Chain B|AMP{i}\"\n",
    "            f\"\\n\"\n",
    "        )\n",
    "        f.write(peptide.strip())"
   ],
   "outputs": [],
   "execution_count": 1
  },
  {
   "metadata": {
    "ExecuteTime": {
     "end_time": "2024-05-12T12:12:18.197401Z",
     "start_time": "2024-05-12T12:12:18.090893Z"
    }
   },
   "cell_type": "code",
   "source": [
    "import os\n",
    "\n",
    "output_dir = \"8YA5_GP_complexes\"\n",
    "os.makedirs(output_dir, exist_ok=True)\n",
    "\n",
    "peptides_file = \"GPs.txt\"\n",
    "with open(peptides_file, \"r\") as f:\n",
    "    peptides = f.readlines()\n",
    "\n",
    "fasta_file = \"8YA5.fasta\"\n",
    "with open(fasta_file, \"r\") as f:\n",
    "    fasta_content = f.read()\n",
    "\n",
    "for i, peptide in enumerate(peptides, start=1):\n",
    "    complex_file = os.path.join(output_dir, f\"8YA5_GP_complex_{i}.fasta\")\n",
    "    with open(complex_file, \"w\") as f:\n",
    "        f.write(fasta_content)\n",
    "        f.write(\n",
    "            f\"\\n\"\n",
    "            f\">Chain B|GP{i}\"\n",
    "            f\"\\n\"\n",
    "        )\n",
    "        f.write(peptide.strip())"
   ],
   "id": "c171a22c0dc3dd81",
   "outputs": [],
   "execution_count": 2
  }
 ],
 "metadata": {
  "kernelspec": {
   "display_name": "Python 3 (ipykernel)",
   "language": "python",
   "name": "python3"
  },
  "language_info": {
   "codemirror_mode": {
    "name": "ipython",
    "version": 3
   },
   "file_extension": ".py",
   "mimetype": "text/x-python",
   "name": "python",
   "nbconvert_exporter": "python",
   "pygments_lexer": "ipython3",
   "version": "3.11.5"
  }
 },
 "nbformat": 4,
 "nbformat_minor": 5
}
