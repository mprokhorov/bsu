{
 "cells": [
  {
   "metadata": {
    "ExecuteTime": {
     "end_time": "2024-06-10T19:59:54.663679Z",
     "start_time": "2024-06-10T19:59:54.656034Z"
    }
   },
   "cell_type": "code",
   "source": [
    "import csv\n",
    "import os"
   ],
   "id": "1c1b42b7104772e2",
   "outputs": [],
   "execution_count": 1
  },
  {
   "metadata": {
    "ExecuteTime": {
     "end_time": "2024-06-10T20:00:01.638253Z",
     "start_time": "2024-06-10T20:00:01.565387Z"
    }
   },
   "cell_type": "code",
   "source": [
    "with open('AMPs.csv', 'r') as csv_file:\n",
    "    csv_reader = csv.reader(csv_file)\n",
    "    next(csv_reader)\n",
    "    with open('AMPs.txt', 'w') as txt_file:\n",
    "        aminoacid_sequences = []\n",
    "        for i, row in enumerate(csv_reader):\n",
    "            aminoacid_sequences.append(row[0])\n",
    "        txt_file.write('\\n'.join(aminoacid_sequences))"
   ],
   "id": "0c493f69-e468-4c65-9ff0-39118bfe8fa1",
   "outputs": [],
   "execution_count": 2
  },
  {
   "metadata": {
    "ExecuteTime": {
     "end_time": "2024-06-10T20:00:04.458185Z",
     "start_time": "2024-06-10T20:00:03.905882Z"
    }
   },
   "cell_type": "code",
   "source": [
    "output_dir = '8YA5_AMP_complexes'\n",
    "os.makedirs(output_dir, exist_ok=True)\n",
    "\n",
    "protein_file = '8YA5.fasta'\n",
    "with open(protein_file, 'r') as f:\n",
    "    protein_file_content = f.read()\n",
    "\n",
    "peptides_file = 'AMPs.txt'\n",
    "with open(peptides_file, 'r') as f:\n",
    "    peptides = f.readlines()\n",
    "peptides = peptides[:1000]\n",
    "\n",
    "for i, peptide in enumerate(peptides, start=1):\n",
    "    protein_peptide_complex_file = os.path.join(output_dir, f'8YA5_AMP_complex_{i}.fasta')\n",
    "    with open(protein_peptide_complex_file, 'w') as f:\n",
    "        f.write(\n",
    "            f'{protein_file_content}\\n'\n",
    "            f'>Chain B|AMP{i}\\n'\n",
    "            f'{peptide.strip()}'\n",
    "        )"
   ],
   "id": "81f09f90eacf9450",
   "outputs": [],
   "execution_count": 3
  },
  {
   "metadata": {
    "ExecuteTime": {
     "end_time": "2024-06-10T20:00:36.837006Z",
     "start_time": "2024-06-10T20:00:36.737488Z"
    }
   },
   "cell_type": "code",
   "source": [
    "output_dir = '8YA5_GP_complexes'\n",
    "os.makedirs(output_dir, exist_ok=True)\n",
    "\n",
    "protein_file = '8YA5.fasta'\n",
    "with open(protein_file, 'r') as f:\n",
    "    protein_file_content = f.read()\n",
    "\n",
    "peptides_file = 'GPs.txt'\n",
    "with open(peptides_file, 'r') as f:\n",
    "    peptides = f.readlines()\n",
    "\n",
    "for i, peptide in enumerate(peptides, start=1):\n",
    "    protein_peptide_complex_file = os.path.join(output_dir, f'8YA5_GP_complex_{i}.fasta')\n",
    "    with open(protein_peptide_complex_file, 'w') as f:\n",
    "        f.write(\n",
    "            f'{protein_file_content}\\n'\n",
    "            f'>Chain B|GP{i}\\n'\n",
    "            f'{peptide.strip()}'\n",
    "        )"
   ],
   "id": "c171a22c0dc3dd81",
   "outputs": [],
   "execution_count": 4
  }
 ],
 "metadata": {
  "kernelspec": {
   "display_name": "Python 3 (ipykernel)",
   "language": "python",
   "name": "python3"
  },
  "language_info": {
   "codemirror_mode": {
    "name": "ipython",
    "version": 3
   },
   "file_extension": ".py",
   "mimetype": "text/x-python",
   "name": "python",
   "nbconvert_exporter": "python",
   "pygments_lexer": "ipython3",
   "version": "3.11.5"
  }
 },
 "nbformat": 4,
 "nbformat_minor": 5
}
