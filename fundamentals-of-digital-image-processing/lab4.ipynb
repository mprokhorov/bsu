{
 "cells": [
  {
   "cell_type": "code",
   "execution_count": 1,
   "id": "bb6df4bb-e4be-441e-9f72-925dba4bf3a2",
   "metadata": {},
   "outputs": [],
   "source": [
    "import cv2 as cv\n",
    "import numpy as np\n",
    "import matplotlib.pyplot as plt\n",
    "import IPython\n",
    "import scipy\n",
    "\n",
    "from PIL import Image"
   ]
  },
  {
   "cell_type": "markdown",
   "id": "9b142996-6e27-4a41-b9b0-4cd576d3dc60",
   "metadata": {},
   "source": [
    "# Part 1: binary images"
   ]
  },
  {
   "cell_type": "code",
   "execution_count": 2,
   "id": "410bf6fb-42fd-4618-b7c8-369ff8cf62bf",
   "metadata": {},
   "outputs": [],
   "source": [
    "def display_image(img_array, title=\"\", vmin=0, vmax=1):\n",
    "    plt.imshow(1 - img_array, cmap='gray')\n",
    "    plt.title(title)\n",
    "    plt.axis('off')\n",
    "    plt.clim(1 - vmax, 1 - vmin)\n",
    "    plt.show()\n",
    "    \n",
    "def display_image255(img_array, title=\"\", vmin=0, vmax=1):\n",
    "    plt.imshow(255 - img_array, cmap='gray')\n",
    "    plt.title(title)\n",
    "    plt.axis('off')\n",
    "    plt.clim(255 - vmax, 255 - vmin)\n",
    "    plt.show()\n",
    "\n",
    "def multiply_struct_elem(B, n):\n",
    "    R = np.array([[1]], np.uint8)\n",
    "    for _ in range(n):\n",
    "        R = cv.dilate(add_border(R, 1), B)\n",
    "    return R\n",
    "\n",
    "def opening(X, B):\n",
    "    return cv.dilate(cv.erode(X, B), B)\n",
    "\n",
    "def closure(X, B):\n",
    "    return cv.erode(cv.dilate(X, B), B)\n",
    "\n",
    "def add_border(matrix, n):\n",
    "    rows, cols = matrix.shape\n",
    "    new_matrix = np.zeros((rows + n * 2, cols + n * 2), dtype=matrix.dtype)\n",
    "    new_matrix[n:rows + n, n:cols + n] = matrix\n",
    "    return new_matrix\n",
    "\n",
    "def remove_border(matrix, n):\n",
    "    rows, cols = matrix.shape\n",
    "    new_matrix = matrix[n:rows - n, n:cols - n]\n",
    "    return new_matrix\n",
    "\n",
    "def PS(X, n, B):\n",
    "    if n >= 0:\n",
    "        first = opening(X, multiply_struct_elem(B, n))\n",
    "        second = opening(X, multiply_struct_elem(B, n + 1))\n",
    "        return sum(sum(cv.bitwise_and(first, 1 - second)))\n",
    "    else:\n",
    "        first = closure(X, multiply_struct_elem(B, -n))\n",
    "        second = closure(X, multiply_struct_elem(B, -n - 1))\n",
    "        return sum(sum(cv.bitwise_and(first, 1 - second)))"
   ]
  },
  {
   "cell_type": "markdown",
   "id": "ec44a11b-5063-40c8-8d1f-efe4230fabc6",
   "metadata": {},
   "source": [
    "## Initial binary image"
   ]
  },
  {
   "cell_type": "code",
   "execution_count": 3,
   "id": "d3c6142b-2f70-4d9d-a41f-5699ccca25bc",
   "metadata": {},
   "outputs": [
    {
     "data": {
      "image/png": "[encoded data removed]",
      "text/plain": [
       "<Figure size 640x480 with 1 Axes>"
      ]
     },
     "metadata": {},
     "output_type": "display_data"
    }
   ],
   "source": [
    "filename = 'circles'\n",
    "binary_image = cv.imread(f'{filename}.jpg', cv.IMREAD_GRAYSCALE)\n",
    "binary_image = cv.threshold(binary_image, 232, 255, cv.THRESH_BINARY_INV)[1] / 255\n",
    "# display_image(binary_image, 'circles')\n",
    "\n",
    "def resize_grayscale_image(image, scale_factor):\n",
    "    image = image.astype(np.uint8)\n",
    "    smaller_image = cv.resize(image, None, fx=1/scale_factor, fy=1/scale_factor, interpolation=cv.INTER_AREA)\n",
    "    return smaller_image\n",
    "\n",
    "img_array = binary_image\n",
    "scaled_image = resize_grayscale_image(img_array, scale_factor=4)\n",
    "display_image(scaled_image)\n",
    "binary_image = scaled_image"
   ]
  },
  {
   "cell_type": "markdown",
   "id": "03a317d6-f867-4145-8ba5-1c142ecdae71",
   "metadata": {},
   "source": [
    "## Setting structuring element"
   ]
  },
  {
   "cell_type": "code",
   "execution_count": 4,
   "id": "fb2a7cb5-805f-41fe-9383-dccc9539940d",
   "metadata": {},
   "outputs": [],
   "source": [
    "B = np.array([\n",
    "    [1, 1, 1],\n",
    "    [1, 1, 1],\n",
    "    [1, 1, 1]], np.uint8)"
   ]
  },
  {
   "cell_type": "markdown",
   "id": "7d73459a-9ae1-4ef1-810b-10374db7e2aa",
   "metadata": {},
   "source": [
    "## Morphological spectre"
   ]
  },
  {
   "cell_type": "code",
   "execution_count": 5,
   "id": "b7001f99-a4f1-49ca-b641-62d4446f1efb",
   "metadata": {},
   "outputs": [
    {
     "data": {
      "image/png": "[encoded data removed]",
      "text/plain": [
       "<Figure size 640x480 with 1 Axes>"
      ]
     },
     "metadata": {},
     "output_type": "display_data"
    }
   ],
   "source": [
    "def non_zero_slice(my_dict):\n",
    "    keys = list(my_dict.keys())\n",
    "    first_non_zero = next(key for key in keys if my_dict[key] != 0)\n",
    "    last_non_zero = next(key for key in reversed(keys) if my_dict[key] != 0)\n",
    "    result_slice = {key: my_dict[key] for key in range(first_non_zero, last_non_zero + 1)}\n",
    "    return result_slice\n",
    "\n",
    "set = {}\n",
    "\n",
    "for n in range(-127, 128):\n",
    "    set[n] = PS(binary_image, n, B)\n",
    "    \n",
    "set = non_zero_slice(set)\n",
    "plt.bar(set.keys(), set.values())\n",
    "plt.show()"
   ]
  },
  {
   "cell_type": "markdown",
   "id": "e01fb9e2-bbb2-4b09-948b-4332bf682e0e",
   "metadata": {},
   "source": [
    "# Part 2: grayscale images"
   ]
  },
  {
   "cell_type": "code",
   "execution_count": 6,
   "id": "280bbeee-5225-4716-8b3f-e676a09eafce",
   "metadata": {},
   "outputs": [],
   "source": [
    "def display_image(img_array, title=\"\", vmin=0, vmax=1):\n",
    "    plt.imshow(1 - img_array, cmap='gray')\n",
    "    plt.title(title)\n",
    "    plt.axis('off')\n",
    "    plt.clim(1 - vmax, 1 - vmin)\n",
    "    plt.show()\n",
    "    \n",
    "def display_image255(img_array, title=\"\", vmin=0, vmax=255):\n",
    "    plt.imshow(255 - img_array, cmap='gray')\n",
    "    plt.title(title)\n",
    "    plt.axis('off')\n",
    "    plt.clim(255 - vmax, 255 - vmin)\n",
    "    plt.show()\n",
    "    \n",
    "def resize_grayscale_image(image, scale_factor):\n",
    "    image = image.astype(np.uint8)\n",
    "    smaller_image = cv.resize(image, None, fx=1/scale_factor, fy=1/scale_factor, interpolation=cv.INTER_AREA)\n",
    "    return smaller_image\n",
    "\n",
    "def multiply_struct_elem(B, n):\n",
    "    if n == 0:\n",
    "        raise ValueError\n",
    "    R = B.copy()\n",
    "    for _ in range(n - 1):\n",
    "        R = scipy.ndimage.grey_dilation(add_border(R, 1), structure=B)\n",
    "    return R\n",
    "\n",
    "def add_border(matrix, n):\n",
    "    rows, cols = matrix.shape\n",
    "    new_matrix = np.zeros((rows + n * 2, cols + n * 2), dtype=matrix.dtype)\n",
    "    new_matrix[n:rows + n, n:cols + n] = matrix\n",
    "    return new_matrix\n",
    "\n",
    "def remove_border(matrix, n):\n",
    "    rows, cols = matrix.shape\n",
    "    new_matrix = matrix[n:rows - n, n:cols - n]\n",
    "    return new_matrix\n",
    "\n",
    "def PS(X, n, B):\n",
    "    if n > 0:\n",
    "        first = scipy.ndimage.grey_opening(X, structure=multiply_struct_elem(B, n))\n",
    "        second = scipy.ndimage.grey_opening(X, structure=multiply_struct_elem(B, n + 1))\n",
    "        return sum(sum(first - second))\n",
    "    elif n == 0:\n",
    "        first = X\n",
    "        second = scipy.ndimage.grey_opening(X, structure=B)\n",
    "        return sum(sum(first - second))\n",
    "    elif n == -1:\n",
    "        first = scipy.ndimage.grey_closing(X, structure=B)\n",
    "        second = X\n",
    "        return sum(sum(first - second))\n",
    "    elif n < -1:\n",
    "        first = scipy.ndimage.grey_closing(X, structure=multiply_struct_elem(B, -n))\n",
    "        second = scipy.ndimage.grey_closing(X, structure=multiply_struct_elem(B, -n - 1))\n",
    "        return sum(sum(first - second))"
   ]
  },
  {
   "cell_type": "markdown",
   "id": "e0d56749-2e73-42ff-9f90-c915236ee02e",
   "metadata": {},
   "source": [
    "# Initial grayscale image"
   ]
  },
  {
   "cell_type": "code",
   "execution_count": 7,
   "id": "1e69f889-9b9a-4f9e-aea6-fb6c3c4a5f7a",
   "metadata": {},
   "outputs": [
    {
     "data": {
      "image/png": "[encoded data removed]",
      "text/plain": [
       "<Figure size 640x480 with 1 Axes>"
      ]
     },
     "metadata": {},
     "output_type": "display_data"
    }
   ],
   "source": [
    "filename = 'elephant'\n",
    "binary_image = 255 - cv.imread(f'{filename}.jpg', cv.IMREAD_GRAYSCALE)\n",
    "# display_image255(binary_image, 'elephant')\n",
    "img_array = binary_image\n",
    "scaled_image = resize_grayscale_image(img_array, scale_factor=8)\n",
    "display_image255(scaled_image)"
   ]
  },
  {
   "cell_type": "markdown",
   "id": "94fe7b69-6d95-44d1-807d-d615292e6b04",
   "metadata": {},
   "source": [
    "## Setting structuring element"
   ]
  },
  {
   "cell_type": "code",
   "execution_count": 8,
   "id": "928c8cf1-0b4d-470c-9ac2-4c67476202fe",
   "metadata": {},
   "outputs": [],
   "source": [
    "B = np.array([\n",
    "    [20, 30, 20],\n",
    "    [30, 40, 30],\n",
    "    [20, 30, 20]])"
   ]
  },
  {
   "cell_type": "markdown",
   "id": "11b87230-65a7-45ae-a40d-99d5c01b4545",
   "metadata": {},
   "source": [
    "## Morphological spectre"
   ]
  },
  {
   "cell_type": "code",
   "execution_count": 9,
   "id": "c5c53005-ca68-4748-9b52-659617cd27f9",
   "metadata": {},
   "outputs": [
    {
     "data": {
      "image/png": "[encoded data removed]",
      "text/plain": [
       "<Figure size 640x480 with 1 Axes>"
      ]
     },
     "metadata": {},
     "output_type": "display_data"
    }
   ],
   "source": [
    "def non_zero_slice(my_dict):\n",
    "    keys = list(my_dict.keys())\n",
    "    first_non_zero = next(key for key in keys if my_dict[key] != 0)\n",
    "    last_non_zero = next(key for key in reversed(keys) if my_dict[key] != 0)\n",
    "    result_slice = {key: my_dict[key] for key in range(first_non_zero, last_non_zero + 1)}\n",
    "    return result_slice\n",
    "\n",
    "set = {}\n",
    "\n",
    "for n in range(-63, 64):\n",
    "    set[n] = PS(scaled_image, n, B)\n",
    "    \n",
    "set = non_zero_slice(set)\n",
    "plt.bar(set.keys(), set.values())\n",
    "plt.show()"
   ]
  }
 ],
 "metadata": {
  "kernelspec": {
   "display_name": "bsu",
   "language": "python",
   "name": "bsu"
  },
  "language_info": {
   "codemirror_mode": {
    "name": "ipython",
    "version": 3
   },
   "file_extension": ".py",
   "mimetype": "text/x-python",
   "name": "python",
   "nbconvert_exporter": "python",
   "pygments_lexer": "ipython3",
   "version": "3.11.5"
  }
 },
 "nbformat": 4,
 "nbformat_minor": 5
}
