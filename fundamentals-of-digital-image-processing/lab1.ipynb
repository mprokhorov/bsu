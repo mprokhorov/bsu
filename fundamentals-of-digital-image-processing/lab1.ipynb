{
 "cells": [
  {
   "cell_type": "code",
   "execution_count": null,
   "id": "bb6df4bb-e4be-441e-9f72-925dba4bf3a2",
   "metadata": {},
   "outputs": [],
   "source": [
    "import numpy as np\n",
    "import matplotlib.pyplot as plt\n",
    "from PIL import Image\n",
    "import cv2"
   ]
  },
  {
   "cell_type": "code",
   "execution_count": null,
   "id": "3554c564-1fbc-4277-a12b-de0b19273837",
   "metadata": {},
   "outputs": [],
   "source": [
    "def jpeg_to_binary(image_path, threshold=232):\n",
    "    # Open the image\n",
    "    img = Image.open(image_path).convert(\"L\")  # Convert to grayscale\n",
    "\n",
    "    # Convert to a NumPy array\n",
    "    img_array = np.array(img)\n",
    "\n",
    "    # Apply a threshold to create a binary image\n",
    "    binary_img = (img_array > threshold) * 255\n",
    "\n",
    "    # Save the resulting binary image\n",
    "    binary_image_path = 'elephant_binary.jpg'\n",
    "    Image.fromarray(binary_img.astype(np.uint8)).save(binary_image_path)\n",
    "    print(\"Binary image saved as 'elephant_binary.jpg\")\n",
    "\n",
    "    return binary_img\n",
    "\n",
    "def display_image(img_array):\n",
    "    # Display the binary image\n",
    "    plt.imshow(img_array, cmap='gray')\n",
    "    plt.axis('off')\n",
    "    plt.show()\n",
    "\n",
    "# Specify the path to your JPEG image\n",
    "image_path = 'elephant.jpg'\n",
    "\n",
    "# Convert JPEG to binary image\n",
    "binary_image = jpeg_to_binary(image_path)\n",
    "\n",
    "# Display the binary image\n",
    "display_image(binary_image)"
   ]
  },
  {
   "cell_type": "code",
   "execution_count": null,
   "id": "c84b6b7a-e3b7-48f2-b063-d0c535ebd52b",
   "metadata": {},
   "outputs": [],
   "source": [
    "img = cv2.imread('elephant_binary.jpg', cv2.IMREAD_GRAYSCALE)\n",
    "display_image(img)\n",
    "size = np.size(img)\n",
    "skel = np.zeros(img.shape, np.uint8)\n",
    " \n",
    "ret, img = cv2.threshold(img, 127, 255, 0)\n",
    "element = cv2.getStructuringElement(cv2.MORPH_CROSS, (3, 3))\n",
    "done = False\n",
    " \n",
    "while not done:\n",
    "    eroded = cv2.erode(img, element)\n",
    "    temp = cv2.dilate(eroded, element)\n",
    "    temp = cv2.subtract(img, temp)\n",
    "    skel = cv2.bitwise_or(skel, temp)\n",
    "    img = eroded.copy()\n",
    "    \n",
    "    zeros = size - cv2.countNonZero(img)\n",
    "    if zeros == size:\n",
    "        done = True\n",
    "\n",
    "display_image(skel)"
   ]
  }
 ],
 "metadata": {
  "kernelspec": {
   "display_name": "bsu",
   "language": "python",
   "name": "bsu"
  },
  "language_info": {
   "codemirror_mode": {
    "name": "ipython",
    "version": 3
   },
   "file_extension": ".py",
   "mimetype": "text/x-python",
   "name": "python",
   "nbconvert_exporter": "python",
   "pygments_lexer": "ipython3",
   "version": "3.11.5"
  }
 },
 "nbformat": 4,
 "nbformat_minor": 5
}
