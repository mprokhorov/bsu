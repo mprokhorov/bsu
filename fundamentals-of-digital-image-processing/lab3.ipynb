{
 "cells": [
  {
   "cell_type": "code",
   "execution_count": null,
   "id": "bb6df4bb-e4be-441e-9f72-925dba4bf3a2",
   "metadata": {},
   "outputs": [],
   "source": [
    "import cv2 as cv\n",
    "import numpy as np\n",
    "import matplotlib.pyplot as plt\n",
    "import IPython\n",
    "\n",
    "from PIL import Image"
   ]
  },
  {
   "cell_type": "code",
   "execution_count": null,
   "id": "410bf6fb-42fd-4618-b7c8-369ff8cf62bf",
   "metadata": {},
   "outputs": [],
   "source": [
    "def gray_scale_to_binary(gray):\n",
    "    img_temp = gray\n",
    "    for i, arr in enumerate(img_temp):\n",
    "        img_temp[i] = [1 if val <= 128 else 0 for val in arr]\n",
    "    return img_temp\n",
    "\n",
    "def display_image(img_array):\n",
    "    plt.imshow(1 - img_array, cmap='gray')\n",
    "    plt.axis('off')\n",
    "    plt.show()\n",
    "    \n",
    "def display_image255(img_array):\n",
    "    plt.imshow(255 - img_array, cmap='gray')\n",
    "    plt.axis('off')\n",
    "    plt.show()\n",
    "\n",
    "T1 = np.array((\n",
    " [1, 1, 1],\n",
    " [0, -1, 1],\n",
    " [0, 0, 0]), dtype=\"int\")\n",
    "\n",
    "T2 = np.rot90(T1, k=3)\n",
    "\n",
    "T3 = np.rot90(T2, k=3)\n",
    "\n",
    "T4 = np.rot90(T3, k=3)\n",
    "\n",
    "T5 = np.array((\n",
    " [1, 1, 1],\n",
    " [1, -1, 0],\n",
    " [0, 0, 0]), dtype=\"int\")\n",
    "\n",
    "T6 = np.rot90(T5, k=3)\n",
    "\n",
    "T7 = np.rot90(T6, k=3)\n",
    "\n",
    "T8 = np.rot90(T7, k=3)\n",
    "\n",
    "def add_border(matrix):\n",
    "    rows, cols = matrix.shape\n",
    "    new_matrix = np.zeros((rows + 4, cols + 4), dtype=matrix.dtype)\n",
    "    new_matrix[2:rows+2, 2:cols+2] = matrix\n",
    "    return new_matrix\n",
    "\n",
    "def remove_border(matrix):\n",
    "    rows, cols = matrix.shape\n",
    "    new_matrix = matrix[2:rows-2, 2:cols-2]\n",
    "    return new_matrix\n",
    "\n",
    "def thickening(X, T):\n",
    "    hit_and_miss = np.array(cv.morphologyEx(X * 255, cv.MORPH_HITMISS, T) / 255, np.uint8)\n",
    "    return cv.bitwise_or(X, hit_and_miss)\n",
    "\n",
    "def psi(X):\n",
    "    X = add_border(X)\n",
    "    return remove_border(thickening(thickening(thickening(thickening(thickening(thickening(thickening(thickening(X, T1), T2), T3), T4), T5), T6), T7), T8))"
   ]
  },
  {
   "cell_type": "code",
   "execution_count": null,
   "id": "d3c6142b-2f70-4d9d-a41f-5699ccca25bc",
   "metadata": {},
   "outputs": [],
   "source": [
    "filename = 'elephant'\n",
    "binary_image = cv.imread(f'{filename}.jpg', cv.IMREAD_GRAYSCALE)\n",
    "_, binary_image = cv.threshold(binary_image, 232, 255, 0)\n",
    "binary_image = gray_scale_to_binary(binary_image)\n",
    "display_image(binary_image)"
   ]
  },
  {
   "cell_type": "code",
   "execution_count": null,
   "id": "c661a441-ddf1-4f67-a153-194e2b4db3c1",
   "metadata": {},
   "outputs": [],
   "source": [
    "while not np.array_equal(binary_image, psi(binary_image)):\n",
    "    IPython.display.clear_output(wait=True)\n",
    "    display_image(psi(binary_image))\n",
    "    binary_image = psi(binary_image)"
   ]
  }
 ],
 "metadata": {
  "kernelspec": {
   "display_name": "bsu",
   "language": "python",
   "name": "bsu"
  },
  "language_info": {
   "codemirror_mode": {
    "name": "ipython",
    "version": 3
   },
   "file_extension": ".py",
   "mimetype": "text/x-python",
   "name": "python",
   "nbconvert_exporter": "python",
   "pygments_lexer": "ipython3",
   "version": "3.11.5"
  }
 },
 "nbformat": 4,
 "nbformat_minor": 5
}
